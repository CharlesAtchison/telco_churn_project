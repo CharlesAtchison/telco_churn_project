{
 "cells": [
  {
   "cell_type": "markdown",
   "id": "04a38ff3",
   "metadata": {},
   "source": [
    "<center><h1>Telco Churn Project</h1></center>\n",
    "\n",
    "# Table of contents <a name ='toc'></a>\n",
    "1. [Project Summary](#project_summary)\n",
    "    1. [Project Objectives](#project_objectives)\n",
    "2. [Data Acqisition](#data_acquisition)\n",
    "5. [Preparation](#preparation)\n",
    "6. [Exploratory Data Analysis](#exp_data_analysis)\n",
    "2. [Drivers of Churn](#drivers_of_churn)\n",
    "3. [Machine Learning Construction](#ml_construction)\n",
    "7. [Statistical Testing](#stat_testing)\n",
    "8. [Modeling](#modeling)\n",
    "9. [Model Evaluation](#model_eval)\n",
    "\n",
    "\n",
    "<hr style=\"border-top: 10px groove grey; margin-top: 1px; margin-bottom: 1px\"></hr>"
   ]
  },
  {
   "cell_type": "markdown",
   "id": "20af4f40",
   "metadata": {},
   "source": [
    "## Project Summary <a name=\"project_summary\"></a>\n",
    "[Table of Contents](#toc)\n",
    "\n",
    "> - Create a Jupyter Notebook Report that shows processes and analysis with the goal of finding drivers for customer churn.\n",
    "> - Within README.md file, include project description with goals, inital hypotheses, a data dictonary, project planning, instructions on how to recreate your project, answers to hypotheses, key findings, recommendations, and takeaways from the project.\n",
    "> - CSV file with customer_id, probabilty of churn, and prediction of churn (1 = churn, 0 = not_churn). These predictions will be dervied from the best performing model on the test portion of the data. \n",
    "> - Any abstracted modules that are created to make the presentation more clean, during the acquistion and preparation of data.\n",
    "> - Notebook walkthrough and presentation with a high-level overview of the entire project.\n",
    "\n",
    "<hr style=\"border-top: 10px groove tan; margin-top: 1px; margin-bottom: 1px\"></hr>\n",
    "\n",
    "\n",
    "### Drivers of Churn <a name=\"drivers_of_churn\"></a>\n",
    "\n",
    "\n",
    "<hr style=\"border-top: 10px groove tan; margin-top: 1px; margin-bottom: 1px\"></hr>\n",
    "\n",
    "\n",
    "### Machine Learning Construction <a name=\"ml_construction\"></a>\n",
    "\n"
   ]
  },
  {
   "cell_type": "code",
   "execution_count": null,
   "id": "9b25e904",
   "metadata": {},
   "outputs": [],
   "source": []
  },
  {
   "cell_type": "markdown",
   "id": "97fe72cf",
   "metadata": {},
   "source": []
  }
 ],
 "metadata": {
  "kernelspec": {
   "display_name": "Python 3",
   "language": "python",
   "name": "python3"
  },
  "language_info": {
   "codemirror_mode": {
    "name": "ipython",
    "version": 3
   },
   "file_extension": ".py",
   "mimetype": "text/x-python",
   "name": "python",
   "nbconvert_exporter": "python",
   "pygments_lexer": "ipython3",
   "version": "3.8.8"
  }
 },
 "nbformat": 4,
 "nbformat_minor": 5
}
