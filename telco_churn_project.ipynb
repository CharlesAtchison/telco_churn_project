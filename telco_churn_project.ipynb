{
 "cells": [
  {
   "cell_type": "markdown",
   "id": "781d08ce",
   "metadata": {},
   "source": [
    "<center><h1>Telco Churn Project</h1></center>\n",
    "\n",
    "<a name ='toc'></a>\n",
    "# Table of Contents \n",
    "1. [Project Summary](#project_summary)\n",
    "    1. [Project Objectives](#project_objectives)\n",
    "    2. [Business Goals](#business_goals)\n",
    "    3. [Audience](#audience)\n",
    "    4. [Deliverables](#deliverables)\n",
    "    5. [Data Dictonary](#data_dict)\n",
    "3. [Executive Summary](#exe_summ)\n",
    "2. [Data Acqisition](#data_acquisition)\n",
    "5. [Preparation](#preparation)\n",
    "6. [Exploratory Data Analysis](#exp_data_analysis)\n",
    "2. [Drivers of Churn](#drivers_of_churn)\n",
    "3. [Machine Learning Construction](#ml_construction)\n",
    "7. [Statistical Testing](#stat_testing)\n",
    "8. [Modeling](#modeling)\n",
    "9. [Model Evaluation](#model_eval)\n",
    "\n",
    "\n",
    "<hr style=\"border-top: 10px groove tan; margin-top: 1px; margin-bottom: 1px\"></hr>"
   ]
  },
  {
   "cell_type": "markdown",
   "id": "6e521094",
   "metadata": {},
   "source": [
    "## Project Summary <a name=\"project_summary\"></a>\n",
    "<hr style=\"border-top: 10px groove tan; margin-top: 1px; margin-bottom: 1px\"></hr>\n",
    "\n",
    "### Project Obectives <a name='project_objectives'></a>\n",
    "> - Create a Jupyter Notebook Report that shows processes and analysis with the goal of finding drivers for customer churn.\n",
    "> - Within README.md file, include project description with goals, inital hypotheses, a data dictonary, project planning, instructions on how to recreate your project, answers to hypotheses, key findings, recommendations, and takeaways from the project.\n",
    "> - CSV file with customer_id, probabilty of churn, and prediction of churn (1 = churn, 0 = not_churn). These predictions will be dervied from the best performing model on the test portion of the data. \n",
    "> - Any abstracted modules that are created to make the presentation more clean, during the acquistion and preparation of data.\n",
    "> - Notebook walkthrough and presentation with a high-level overview of the entire project.\n",
    "\n",
    "### Business Goals <a name='business_goals'></a>\n",
    "> - Find drivers for customer churn at Telco. Why are customers churning?\n",
    "> - Construct a machine-learning classification model that accurately predicts customer churn.\n",
    "> - Document your process well enough to be presented or read like a report.\n",
    "\n",
    "### Audience <a name='audience'></a>\n",
    "> - Target audience is the Codeup Data Science Team.\n",
    "\n",
    "\n",
    "### Deliverables  <a name='deliverables'></a>\n",
    "> - A final report within Juypter Notebooks\n",
    "> - A final report presentation using Juypter Notebooks\n",
    "> - Modules necessary to recreate project\n",
    "\n",
    "### Data Dictionary <a name='data_dict'></a>\n",
    "\n",
    "| Feature                | Datatype               | Definition   |\n",
    "|:-----------------------|:-----------------------|:-------------|\n",
    "| churn                  | 7049 non-null: object  |defines if the customer has churned|\n",
    "\n",
    "\n",
    "\n",
    "| Feature                | Datatype               | Definition   |\n",
    "|:-----------------------|:-----------------------|:-------------|\n",
    "| customer_id            | 7049 non-null: object  |unique int for each customer|\n",
    "| gender                 | 7049 non-null: object  |specifies the gender|\n",
    "| is_senior_citizen      | 7049 non-null: int64   |identifies if customer is senior citizen|\n",
    "| partner                | 7049 non-null: object  |if customer has a partner\n",
    "| dependents             | 7049 non-null: object  |if customer has dependents|\n",
    "| phone_service          | 7049 non-null: int64   |if customer has phone service|\n",
    "| internet_service       | 7049 non-null: int64   |if customer has internet service|\n",
    "| contract_type          | 7049 non-null: int64   |defines contract service|\n",
    "| payment_type           | 7049 non-null: object  |defines the payment type|\n",
    "| monthly_charges        | 7049 non-null: float64 |average monthly charges|\n",
    "| total_charges          | 7038 non-null: float64 |total revenue from customer|\n",
    "| tenure                 | 7049 non-null: int64   |number of months the customer has been with company|\n",
    "| is_female              | 7049 non-null: bool    |defines if the customer is female\n",
    "| has_churned            | 7049 non-null: bool    |defines if the customer has churned|\n",
    "| has_phone              | 7049 non-null: bool    |defines if the customer has phone services|\n",
    "| has_internet           | 7049 non-null: bool    |defines if the customer has internet|\n",
    "| has_phone_and_internet | 7049 non-null: bool    |defines if the customer has internet and phone|\n",
    "| partner_depenents      | 7049 non-null: int64   |defines if the customer has partner and dependents|\n",
    "| start_date             | 7049 non-null: object  |date customer joined company|\n",
    "| avg_monthly_charges    | 7049 non-null: object  |average monthly charges|\n",
    "| matches_orig           | 7049 non-null: object  |does it match avg month charges|\n",
    "| phone description      | 7049 non-null: object  |number of lines|\n",
    "| internet_desciption    | 7049 non-null: object  |internet service type|\n",
    "| contract_description   | 7049 non-null: object  |contract type and length|\n",
    "\n",
    "<div style=\"text-align: right\"><a href=#toc>Table of Contents</a></div>\n",
    "<hr style=\"border-top: 10px groove tan; margin-top: 1px; margin-bottom: 1px\"></hr>\n",
    "\n"
   ]
  },
  {
   "cell_type": "code",
   "execution_count": 1,
   "id": "0155131f",
   "metadata": {},
   "outputs": [],
   "source": [
    "import pandas as pd"
   ]
  },
  {
   "cell_type": "code",
   "execution_count": 74,
   "id": "523880b2",
   "metadata": {},
   "outputs": [],
   "source": [
    "# import telco_data from csv\n",
    "telco_df = pd.read_csv('telco_csv_data.csv')\n",
    "\n",
    "# # Use this to output data dictionary to input into README.md\n",
    "# print(pd.DataFrame([{'Feature': col,\n",
    "#          'Datatype': f'{telco_df[col].count()} non-null: {telco_df[col].dtype}',\n",
    "#         'Definition' : ''} for col in telco_df.columns]).set_index('Feature').to_markdown())"
   ]
  }
 ],
 "metadata": {
  "kernelspec": {
   "display_name": "Python 3",
   "language": "python",
   "name": "python3"
  },
  "language_info": {
   "codemirror_mode": {
    "name": "ipython",
    "version": 3
   },
   "file_extension": ".py",
   "mimetype": "text/x-python",
   "name": "python",
   "nbconvert_exporter": "python",
   "pygments_lexer": "ipython3",
   "version": "3.8.8"
  }
 },
 "nbformat": 4,
 "nbformat_minor": 5
}
