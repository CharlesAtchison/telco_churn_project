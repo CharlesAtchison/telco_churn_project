{
 "cells": [
  {
   "cell_type": "markdown",
   "id": "fd41f1bb",
   "metadata": {},
   "source": [
    "<center><h1>Telco Churn Project</h1></center>\n",
    "\n",
    "# Table of contents <a name ='toc'></a>\n",
    "1. [Business Goals](#business_goals)\n",
    "     1. [Drivers of Churn](#drivers_of_churn)\n",
    "     2. [Machine Learning Construction](#ml_construction)\n",
    "2. [Data Acqisition](#data_acquisition)\n",
    "3. [Preparation](#preparation)\n",
    "3. [Exploratory Data Analysis](#exp_data_analysis)\n",
    "4. [Statistical Testing](#stat_testing)\n",
    "5. [Modeling](#modeling)\n",
    "6. [Model Evaluation](#model_eval)"
   ]
  },
  {
   "cell_type": "markdown",
   "id": "cfe5c138",
   "metadata": {},
   "source": [
    "## Business Goals <a name=\"business_goals\"></a>\n",
    "[Table of Contents](#toc)\n",
    "\n"
   ]
  },
  {
   "cell_type": "markdown",
   "id": "b953a422",
   "metadata": {},
   "source": []
  }
 ],
 "metadata": {
  "kernelspec": {
   "display_name": "Python 3",
   "language": "python",
   "name": "python3"
  },
  "language_info": {
   "codemirror_mode": {
    "name": "ipython",
    "version": 3
   },
   "file_extension": ".py",
   "mimetype": "text/x-python",
   "name": "python",
   "nbconvert_exporter": "python",
   "pygments_lexer": "ipython3",
   "version": "3.8.8"
  }
 },
 "nbformat": 4,
 "nbformat_minor": 5
}
