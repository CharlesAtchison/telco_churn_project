{
 "cells": [
  {
   "cell_type": "markdown",
   "id": "2b143583",
   "metadata": {},
   "source": [
    "<center><h1>Telco Churn Project</h1></center>\n",
    "\n",
    "# Table of Contents <a name ='toc'></a>\n",
    "1. [Project Summary](#project_summary)\n",
    "    1. [Project Objectives](#project_objectives)\n",
    "    2. [Business Goals](#business_goals)\n",
    "    3. [Audience](#audience)\n",
    "    4. [Deliverables](#deliverables)\n",
    "    5. [Data Dictonary](#data_dict)\n",
    "3. [Executive Summary](#exe_summ)\n",
    "2. [Data Acqisition](#data_acquisition)\n",
    "5. [Preparation](#preparation)\n",
    "6. [Exploratory Data Analysis](#exp_data_analysis)\n",
    "2. [Drivers of Churn](#drivers_of_churn)\n",
    "3. [Machine Learning Construction](#ml_construction)\n",
    "7. [Statistical Testing](#stat_testing)\n",
    "8. [Modeling](#modeling)\n",
    "9. [Model Evaluation](#model_eval)\n",
    "\n",
    "\n",
    "<hr style=\"border-top: 10px groove tan; margin-top: 1px; margin-bottom: 1px\"></hr>"
   ]
  },
  {
   "cell_type": "markdown",
   "id": "40d454f8",
   "metadata": {},
   "source": [
    "## Project Summary <a name=\"project_summary\"></a>\n",
    "<hr style=\"border-top: 10px groove tan; margin-top: 1px; margin-bottom: 1px\"></hr>\n",
    "\n",
    "### Project Obectives <a name='project_objectives'></a>\n",
    "> - Create a Jupyter Notebook Report that shows processes and analysis with the goal of finding drivers for customer churn.\n",
    "> - Within README.md file, include project description with goals, inital hypotheses, a data dictonary, project planning, instructions on how to recreate your project, answers to hypotheses, key findings, recommendations, and takeaways from the project.\n",
    "> - CSV file with customer_id, probabilty of churn, and prediction of churn (1 = churn, 0 = not_churn). These predictions will be dervied from the best performing model on the test portion of the data. \n",
    "> - Any abstracted modules that are created to make the presentation more clean, during the acquistion and preparation of data.\n",
    "> - Notebook walkthrough and presentation with a high-level overview of the entire project.\n",
    "\n",
    "### Business Goals <a name='business_goals'></a>\n",
    "> - Find drivers for customer churn at Telco. Why are customers churning?\n",
    "> - Construct a machine-learning classification model that accurately predicts customer churn.\n",
    "> - Document your process well enough to be presented or read like a report.\n",
    "\n",
    "### Audience <a name='audience'></a>\n",
    "> - Target audience is the Codeup Data Science Team.\n",
    "\n",
    "\n",
    "### Deliverables  <a name='deliverables'></a>\n",
    "> - A final report within Juypter Notebooks\n",
    "> - A final report presentation using Juypter Notebooks\n",
    "> - Modules necessary to recreate project\n",
    "\n",
    "### Data Dictionary <a name='data_dict'></a>\n",
    ">-\n",
    "\n",
    "<div style=\"text-align: right\"><a href=#toc>Table of Contents</a></div>\n",
    "<hr style=\"border-top: 10px groove tan; margin-top: 1px; margin-bottom: 1px\"></hr>\n",
    "\n"
   ]
  },
  {
   "cell_type": "code",
   "execution_count": null,
   "id": "c7b0457e",
   "metadata": {},
   "outputs": [],
   "source": []
  },
  {
   "cell_type": "markdown",
   "id": "96804c0d",
   "metadata": {},
   "source": []
  }
 ],
 "metadata": {
  "kernelspec": {
   "display_name": "Python 3",
   "language": "python",
   "name": "python3"
  },
  "language_info": {
   "codemirror_mode": {
    "name": "ipython",
    "version": 3
   },
   "file_extension": ".py",
   "mimetype": "text/x-python",
   "name": "python",
   "nbconvert_exporter": "python",
   "pygments_lexer": "ipython3",
   "version": "3.8.8"
  }
 },
 "nbformat": 4,
 "nbformat_minor": 5
}
